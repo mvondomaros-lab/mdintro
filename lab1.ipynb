{
 "cells": [
  {
   "cell_type": "markdown",
   "id": "ec4a4bd3-327e-42eb-b572-34f0790a5b4b",
   "metadata": {
    "tags": []
   },
   "source": [
    "# Python Basics"
   ]
  },
  {
   "cell_type": "markdown",
   "id": "50aee313-6492-405d-afd8-5ea4cf67f6d3",
   "metadata": {},
   "source": [
    "## Setting Up The Python Environment\n",
    "\n",
    "1. Go to [github.com/astral-sh/uv](https://github.com/astral-sh/uv) and follow the setup instructions for the `uv` python package manager.\n",
    "2. Install `jupyter-lab` with useful dependencies (copy and paste these instructions!).\n",
    "   ```bash\n",
    "   uv tool install --with=\"numba,numpy,scipy,matplotlib,MDAnalysis,ruff,jupyter-ruff,jupyterlab-lsp,python-lsp-server\" jupyterlab\n",
    "   ```\n",
    "3. Download this notebook to your computer and open it.\n",
    "   ```bash\n",
    "   jupyter-lab lab1.ipynb\n",
    "   ```\n",
    "4. Optionally, enable format on save and format on run: Settings ->  Settings Editor -> Jupyter Ruff -> Check all boxes."
   ]
  },
  {
   "cell_type": "markdown",
   "id": "595603a3-c68e-4a92-a92d-113744e9ad58",
   "metadata": {
    "tags": []
   },
   "source": [
    "## Python as a Simple Calculator\n",
    "\n",
    "Python supports basic arithmetic through the mathematical **operators** for addition, `+`, subtraction, `-`, multiplication, `*`, division, `/`, and exponentiation `**`"
   ]
  },
  {
   "cell_type": "code",
   "execution_count": null,
   "id": "8411aab6-e2e1-4d77-87d5-e7c613a6c1d7",
   "metadata": {},
   "outputs": [],
   "source": []
  },
  {
   "cell_type": "markdown",
   "id": "1b3fc292-c974-4680-9ed4-51ed1c5f7493",
   "metadata": {},
   "source": [
    "The combinations of operands and operators shown above are called **expressions**. \n",
    "Expressions can be combined and chained.\n",
    "Python is consitent with common precedence rules."
   ]
  },
  {
   "cell_type": "code",
   "execution_count": null,
   "id": "b07e8de7-15df-44c8-b548-2f7a6d58cc07",
   "metadata": {
    "tags": []
   },
   "outputs": [],
   "source": []
  },
  {
   "cell_type": "markdown",
   "id": "9c5db671-752a-47e5-b8fe-d589f705d190",
   "metadata": {},
   "source": [
    "Python supports many **data types**.\n",
    "We have encountered two: **integers** ('ints') and **floating point numbers** ('floats').\n",
    "The former represent integers, the latter represent real numbers.\n",
    "When mixing numerical data types in an expression, the result will never loose precision.\n",
    "Meaning integers can be automatically converted to floats, but not vice versa."
   ]
  },
  {
   "cell_type": "code",
   "execution_count": null,
   "id": "3191e47c-f4f3-48e3-a2b0-94eaaf6b0ab8",
   "metadata": {
    "tags": []
   },
   "outputs": [],
   "source": []
  },
  {
   "cell_type": "markdown",
   "id": "db6239cc-6170-4164-9f60-c8343db9b447",
   "metadata": {},
   "source": [
    "Division always evaluates to a floating point number.\n",
    "If this is not desired, the integer division operator `//` can be used."
   ]
  },
  {
   "cell_type": "code",
   "execution_count": null,
   "id": "03f5fc98-0ba1-4fbe-a197-ea863d937c16",
   "metadata": {
    "tags": []
   },
   "outputs": [],
   "source": []
  },
  {
   "cell_type": "markdown",
   "id": "cc4ed211-4620-494e-89f1-b91e7d7a4cc7",
   "metadata": {},
   "source": [
    "We can force convert ints to floats and vice versa using the `int` and `float` functions. Note that `int` does not round. It truncates toward zero."
   ]
  },
  {
   "cell_type": "code",
   "execution_count": null,
   "id": "35a32864-7bef-4886-afa6-ae465feece17",
   "metadata": {
    "tags": []
   },
   "outputs": [],
   "source": []
  },
  {
   "cell_type": "markdown",
   "id": "01590172-5c7a-457e-9b81-7cc8963ab128",
   "metadata": {},
   "source": [
    "## More Complex Math\n",
    "\n",
    "More complex math requires the loading of **libraries**. We will use **numpy**.\n",
    "The following statement import the numpy library under a short-hand name `np`.\n",
    "Unlike in this exercise, it is good practice to load modules at the top of a notebook."
   ]
  },
  {
   "cell_type": "code",
   "execution_count": null,
   "id": "262ca7a1-28c2-4537-ab96-b333ea567c6f",
   "metadata": {
    "tags": []
   },
   "outputs": [],
   "source": []
  },
  {
   "cell_type": "markdown",
   "id": "6acc41f1-f95b-46c8-a7e8-51681ddc645d",
   "metadata": {},
   "source": [
    "Numpy provides basic mathematical constants, like $\\pi$ or $e$."
   ]
  },
  {
   "cell_type": "code",
   "execution_count": null,
   "id": "b1727f46-e172-4c7d-9336-d14cd5af23aa",
   "metadata": {
    "tags": []
   },
   "outputs": [],
   "source": []
  },
  {
   "cell_type": "markdown",
   "id": "1353a59f-80d7-4d58-89dc-75523e8ba7b2",
   "metadata": {},
   "source": [
    "However, to compute the exponential, always use `np.exp`."
   ]
  },
  {
   "cell_type": "code",
   "execution_count": null,
   "id": "994acfae-1071-4375-88d7-7796fb8113a2",
   "metadata": {
    "tags": []
   },
   "outputs": [],
   "source": []
  },
  {
   "cell_type": "markdown",
   "id": "225f7b80-5b16-4bc9-8d8f-3d8e51d498b4",
   "metadata": {},
   "source": [
    "Scientific constants are a part of **scipy**."
   ]
  },
  {
   "cell_type": "code",
   "execution_count": null,
   "id": "5d8e9805-2c06-4df5-954c-8496c12c60b2",
   "metadata": {
    "tags": []
   },
   "outputs": [],
   "source": []
  },
  {
   "cell_type": "markdown",
   "id": "dea00b53-457a-42dc-a190-e54499ffbbe2",
   "metadata": {},
   "source": [
    "## Exercise\n",
    "\n",
    "Convert $1\\ \\mathsf{u\\ nm^2\\ ps^{-2}}$ to $\\mathsf{kJ\\ mol^{-1}}$ and to $\\mathsf{kcal\\ mol^{-1}}$."
   ]
  },
  {
   "cell_type": "code",
   "execution_count": null,
   "id": "47c55df7-fa9c-4b0b-9fad-06b7a78869f0",
   "metadata": {
    "tags": []
   },
   "outputs": [],
   "source": []
  },
  {
   "cell_type": "markdown",
   "id": "e4ddf1d0-6fa7-4a50-9b9c-c57ae401d439",
   "metadata": {},
   "source": [
    "## Variables\n",
    "\n",
    "We can assign numbers and the result of an expression to **variables** as follows."
   ]
  },
  {
   "cell_type": "code",
   "execution_count": null,
   "id": "9f463edf-e4fe-41da-ba1f-1491629b5b08",
   "metadata": {
    "tags": []
   },
   "outputs": [],
   "source": []
  },
  {
   "cell_type": "markdown",
   "id": "698f9b30-228f-471c-bfef-085860592ea2",
   "metadata": {
    "tags": []
   },
   "source": [
    "The preceding lines are called **statements**. They do not evaluate to a value and nothing is printed. To get the value of `a` and `b`, we can just type them at the end of a cell or we can use the `print` function."
   ]
  },
  {
   "cell_type": "code",
   "execution_count": null,
   "id": "1090da2e-a832-4c0e-a7f9-229b42962cdc",
   "metadata": {
    "tags": []
   },
   "outputs": [],
   "source": []
  },
  {
   "cell_type": "markdown",
   "id": "03eabeb3-debe-4e24-962d-83c14d1c76d0",
   "metadata": {},
   "source": [
    "It is possible and common to have multiple statements per cell."
   ]
  },
  {
   "cell_type": "code",
   "execution_count": null,
   "id": "7345989a-62f6-4679-b8cf-21107518c8bc",
   "metadata": {
    "tags": []
   },
   "outputs": [],
   "source": []
  },
  {
   "cell_type": "markdown",
   "id": "a7659124-a1f1-445f-a502-7f44d6a6fd1f",
   "metadata": {},
   "source": [
    "## Strings\n",
    "\n",
    "**Strings** are another **data type**. They store text."
   ]
  },
  {
   "cell_type": "code",
   "execution_count": null,
   "id": "84dad692-c203-4816-8edc-bc437a4f0c45",
   "metadata": {
    "tags": []
   },
   "outputs": [],
   "source": []
  },
  {
   "cell_type": "markdown",
   "id": "3bcdb084-c8af-4981-92ac-c4e5b4311f9c",
   "metadata": {},
   "source": [
    "## Functions\n",
    "\n",
    "We have already encountered some **built-in** functions, such as `print`, `int`, or `float`, as well as **library functions**, such as `np.exp`.\n",
    "We can also define our own functions."
   ]
  },
  {
   "cell_type": "code",
   "execution_count": null,
   "id": "8197130b-9b20-4b1e-8ba8-660792b80eae",
   "metadata": {
    "tags": []
   },
   "outputs": [],
   "source": []
  },
  {
   "cell_type": "markdown",
   "id": "490b6fb5-f0fd-453b-92c6-c6d9dcff223a",
   "metadata": {},
   "source": [
    "Functions can accept multiple **arguments**."
   ]
  },
  {
   "cell_type": "code",
   "execution_count": null,
   "id": "a3803b70-d450-4b91-92a3-e89d72208b17",
   "metadata": {
    "tags": []
   },
   "outputs": [],
   "source": []
  },
  {
   "cell_type": "markdown",
   "id": "377bc01c-b32b-46ea-8526-dc4eae25390f",
   "metadata": {},
   "source": [
    "We can also refer to the arguments of a function by name."
   ]
  },
  {
   "cell_type": "markdown",
   "id": "aef36ad6-50dc-4596-871b-8e20c7f8ce18",
   "metadata": {},
   "source": [
    "We may also set default values."
   ]
  },
  {
   "cell_type": "code",
   "execution_count": null,
   "id": "b8732e38-d355-45bc-9fb4-06244df9e37c",
   "metadata": {
    "tags": []
   },
   "outputs": [],
   "source": []
  },
  {
   "cell_type": "markdown",
   "id": "bd79eaf4-f2f5-4f7c-8640-9804fd52a03a",
   "metadata": {},
   "source": [
    "## Exercise\n",
    "\n",
    "Write a function called `v_harmonic` that computes the harmonic potential,\n",
    "\n",
    "$$\n",
    "V_\\mathsf{harmonic} = \\frac{1}{2}k(r-r_0)^2\\,\n",
    "$$\n",
    "\n",
    "at a position `r`, given some force constant `k` and minimum position `r0`.\n",
    "Verify that your results are correct by comparing with the output below."
   ]
  },
  {
   "cell_type": "code",
   "execution_count": null,
   "id": "874faad8-5ae7-457a-a167-72ece824c52e",
   "metadata": {
    "tags": []
   },
   "outputs": [],
   "source": []
  },
  {
   "cell_type": "markdown",
   "id": "70998271-2836-49dd-adf2-067f882ad89f",
   "metadata": {},
   "source": [
    "## Rounding\n",
    "\n",
    "Occasionally, we need to round floating point numbers to ints in a defined way. This is possible with the numpy functions `round`, `ceil`, and `floor`.\n",
    "\n",
    "`round` rounds to the nearest integer.\n",
    "`ceil` rounds to the nearest larger integer.\n",
    "`floor` rounds to the nearest smaller integer."
   ]
  },
  {
   "cell_type": "code",
   "execution_count": null,
   "id": "7bc38cfc-197d-49ac-8624-81bfe8601b2d",
   "metadata": {
    "tags": []
   },
   "outputs": [],
   "source": []
  },
  {
   "cell_type": "markdown",
   "id": "b42a6e9e-ebc8-41f9-b2c2-c1d614825e26",
   "metadata": {},
   "source": [
    "# Exercise\n",
    "\n",
    "Write a function called `wrap`, which accepts two arguments: `x` and `length`.\n",
    "Set a default value of `1.0` to `length`.\n",
    "The function should return a number between `0` and `length`, by adding or subtracting multiples of `length` to/from `x`.\n",
    "Verify that your results are correct by comparing with the output below."
   ]
  },
  {
   "cell_type": "code",
   "execution_count": null,
   "id": "7b101e34-5667-42d8-9855-66101f887d10",
   "metadata": {
    "tags": []
   },
   "outputs": [],
   "source": []
  },
  {
   "cell_type": "markdown",
   "id": "f8e3b408-7ac2-4e19-b185-a6f3b6418eb5",
   "metadata": {},
   "source": [
    "## Sequences\n",
    "\n",
    "We often work with many numbers. Which we can organize in various data structures.\n",
    "**Sequences** are data structures that have an order.\n",
    "A simple sequence in Python is called a **tuple**."
   ]
  },
  {
   "cell_type": "code",
   "execution_count": null,
   "id": "bc3c04b5-4861-4d2e-abb6-e716a8cb8dcf",
   "metadata": {
    "tags": []
   },
   "outputs": [],
   "source": []
  },
  {
   "cell_type": "markdown",
   "id": "8257ee69-b0ba-4591-b636-ae0fe486f4de",
   "metadata": {},
   "source": [
    "To access elements, we use square brackets. Note: Indexing in Python is zero-based.\n",
    "Tuples are immutable sequences. They cannot be changed."
   ]
  },
  {
   "cell_type": "code",
   "execution_count": null,
   "id": "d7734ebe-6a7b-4ae0-bb05-ac69ca6e2482",
   "metadata": {
    "tags": []
   },
   "outputs": [],
   "source": []
  },
  {
   "cell_type": "markdown",
   "id": "ea1afad7-711e-4281-9f21-c952188a9431",
   "metadata": {},
   "source": [
    "Another sequence in Python is called a **list**. Lists are mutable sequences. They can be changed."
   ]
  },
  {
   "cell_type": "code",
   "execution_count": null,
   "id": "cbdac99d-7cf6-492f-ad3f-14b34bb51cdb",
   "metadata": {
    "tags": []
   },
   "outputs": [],
   "source": []
  },
  {
   "cell_type": "markdown",
   "id": "01cde835-a5a5-449e-af9a-9e6f7a797dda",
   "metadata": {},
   "source": [
    "## Arrays\n",
    "\n",
    "**Arrays** are immutable sequences containing only one data type.\n",
    "They support **fast numerical operations**.\n",
    "Arrays will be our goto data type for MD.\n",
    "They are a part of **numpy**."
   ]
  },
  {
   "cell_type": "code",
   "execution_count": null,
   "id": "7c2bb800-3f79-40ee-8bd1-1718d742c876",
   "metadata": {
    "tags": []
   },
   "outputs": [],
   "source": []
  },
  {
   "cell_type": "markdown",
   "id": "4bcff813-3f3b-417b-8e74-c07d0864b673",
   "metadata": {},
   "source": [
    "We can create a sequence of numbers using `np.arange`."
   ]
  },
  {
   "cell_type": "code",
   "execution_count": null,
   "id": "fe40e6ae-4b1a-46ac-a2a4-c41bf8f8fcbc",
   "metadata": {
    "tags": []
   },
   "outputs": [],
   "source": []
  },
  {
   "cell_type": "markdown",
   "id": "acff088a-ddd1-49f8-81ab-3300d2a381f8",
   "metadata": {},
   "source": [
    "Other useful functions for creating arrays are `np.zeros`, `np.ones`, `np.full`, as well as `np.zeros_like`, `np.ones_like`, and `np.full_like`."
   ]
  },
  {
   "cell_type": "code",
   "execution_count": null,
   "id": "a8e0d19d-8559-4bdd-83a1-68a919b96bfd",
   "metadata": {
    "tags": []
   },
   "outputs": [],
   "source": []
  },
  {
   "cell_type": "markdown",
   "id": "a08ad057-609f-44c5-8e82-a9d5a9c18208",
   "metadata": {},
   "source": [
    "Very often we have to create evenly-spaced arrays."
   ]
  },
  {
   "cell_type": "code",
   "execution_count": null,
   "id": "cdcf6d3b-4abe-4e48-8538-0cad7b4f508e",
   "metadata": {
    "tags": []
   },
   "outputs": [],
   "source": []
  },
  {
   "cell_type": "markdown",
   "id": "f3ddd45e-829a-4352-87b2-6104f1783bfd",
   "metadata": {},
   "source": [
    "# Arrays support arithmetic operations."
   ]
  },
  {
   "cell_type": "code",
   "execution_count": null,
   "id": "fb04f1f4-22b7-499c-9a47-5e99df0b385e",
   "metadata": {
    "tags": []
   },
   "outputs": [],
   "source": []
  },
  {
   "cell_type": "markdown",
   "id": "705fa3cc-36f3-495a-8877-45d83c865020",
   "metadata": {},
   "source": [
    "## Plotting\n",
    "\n",
    "There are various plotting libraries for python. Here, we present **matplotlib**, a simple plotting library with an interface called pyplot insipired by matlab.\n",
    "Pyplot supports various styles. We use the ggplot theme."
   ]
  },
  {
   "cell_type": "code",
   "execution_count": null,
   "id": "02a0d252-c0f3-45c0-be55-bf7e30a3ac6a",
   "metadata": {
    "tags": []
   },
   "outputs": [],
   "source": []
  },
  {
   "cell_type": "markdown",
   "id": "bd7d28c6-3f5b-4daf-9b15-d0ec9c37194e",
   "metadata": {},
   "source": [
    "## Exercise\n",
    "\n",
    "Plot a sine and a cosine function in one plot from 0 to 2 pi.\n",
    "Add a legend."
   ]
  },
  {
   "cell_type": "code",
   "execution_count": null,
   "id": "dac14ba2-33cc-4384-ac56-7e66305735b8",
   "metadata": {
    "tags": []
   },
   "outputs": [],
   "source": []
  },
  {
   "cell_type": "markdown",
   "id": "21858d7a-7e95-45f9-bb17-5513eb7fddb4",
   "metadata": {},
   "source": [
    "## Comparing Values\n",
    "\n",
    "We can compare values by using the **logical comparison operators** for equality, `==`, inequality, `!=`, as well as the ones for greater-than, `>`, less-than, `<`, greater-or-equal, `>=`, less-or-equal, `<-`."
   ]
  },
  {
   "cell_type": "code",
   "execution_count": null,
   "id": "4327ac01-7f7e-4edb-a7cc-012c4b140c11",
   "metadata": {
    "tags": []
   },
   "outputs": [],
   "source": []
  },
  {
   "cell_type": "markdown",
   "id": "9ca5e6bd-541c-4c75-81a8-cdaad3789916",
   "metadata": {},
   "source": [
    "Logical operations can be chained."
   ]
  },
  {
   "cell_type": "code",
   "execution_count": null,
   "id": "dcf93d86-e30f-4b81-8ba9-e86f5905d743",
   "metadata": {
    "tags": []
   },
   "outputs": [],
   "source": []
  },
  {
   "cell_type": "markdown",
   "id": "1ffd5c68-e75d-44e2-99c6-0424d1666ff4",
   "metadata": {},
   "source": [
    "# Boolean operators\n",
    "\n",
    "We can also use the **boolean operators** `and`, `or`, and `not`, as follows."
   ]
  },
  {
   "cell_type": "code",
   "execution_count": null,
   "id": "038bcab8-666a-4dfa-a97d-f01e1395cea9",
   "metadata": {
    "tags": []
   },
   "outputs": [],
   "source": []
  },
  {
   "cell_type": "markdown",
   "id": "f1d68fb9-c7a0-429b-9797-b06d7216fde5",
   "metadata": {},
   "source": [
    "# Looping and Branching"
   ]
  },
  {
   "cell_type": "markdown",
   "id": "544ceccc-f437-4146-ac1c-1c0d48244a92",
   "metadata": {},
   "source": [
    "**Loops** are used to repeat a statement multiple times.\n",
    "In Python, we always try to loop over sequences.\n",
    "**Indentation** is important."
   ]
  },
  {
   "cell_type": "code",
   "execution_count": null,
   "id": "416913b3-ae16-480f-8371-1a3445b4d3e7",
   "metadata": {
    "tags": []
   },
   "outputs": [],
   "source": []
  },
  {
   "cell_type": "markdown",
   "id": "898dfc75-2153-4bf6-b34c-55e4fd43f8c7",
   "metadata": {},
   "source": [
    "If we want to loop over numbers, we use the `range` function."
   ]
  },
  {
   "cell_type": "code",
   "execution_count": null,
   "id": "11dbfdf1-13c3-45cb-83de-60c75a5e8060",
   "metadata": {},
   "outputs": [],
   "source": []
  },
  {
   "cell_type": "markdown",
   "id": "aed9f711-2aaf-4309-9dc9-53c5d73424ce",
   "metadata": {},
   "source": [
    "Sometimes we need to evaluate a statement **conditionally**. This is called branching.\n",
    "A common pattern that we see in MD is shown below.\n",
    "It involves the **modulo** operator, which returns the remainder of a division."
   ]
  },
  {
   "cell_type": "code",
   "execution_count": null,
   "id": "032417aa-b3c0-426c-bcec-8f10e358a098",
   "metadata": {
    "tags": []
   },
   "outputs": [],
   "source": []
  },
  {
   "cell_type": "markdown",
   "id": "22eec0f4-6046-4f46-8f4d-6ebb148cf2cc",
   "metadata": {},
   "source": [
    "# Exercise\n",
    "\n",
    "Write a function that determines if some number `n` is a prime number.\n",
    "Here's a simple, though inefficient algorithm.\n",
    "Return `False` if `n <= 1`.\n",
    "Loop from `2` to `n-1` and check if `n` can be divided by this number. If so, return `False`.\n",
    "After the loop has finished, return `True`.\n",
    "Check your implementation for the numbers `1` to `11`."
   ]
  },
  {
   "cell_type": "code",
   "execution_count": null,
   "id": "8956ab92-2a73-406b-84b4-49597402d1bb",
   "metadata": {
    "tags": []
   },
   "outputs": [],
   "source": []
  },
  {
   "cell_type": "markdown",
   "id": "ad4d692f-fe61-4ce9-a958-567efc2175ce",
   "metadata": {},
   "source": [
    "# Random Numbers\n",
    "\n",
    "Numpy gives access to random number generators through the function `np.random.rand` (uniform distribution) and `np.random.randn()` (normal distribution)."
   ]
  },
  {
   "cell_type": "code",
   "execution_count": null,
   "id": "377c164e-a40d-4753-88c7-a521370a21a5",
   "metadata": {
    "tags": []
   },
   "outputs": [],
   "source": []
  },
  {
   "cell_type": "markdown",
   "id": "09ce2653-ac25-4a77-a5aa-e42201f71c53",
   "metadata": {},
   "source": [
    "Let's visualize this by ploting histograms."
   ]
  },
  {
   "cell_type": "code",
   "execution_count": null,
   "id": "5b55a9c4-9d29-4407-ad4d-422d066fd11a",
   "metadata": {
    "tags": []
   },
   "outputs": [],
   "source": []
  },
  {
   "cell_type": "markdown",
   "id": "78056fff-0b6b-4e22-97e2-4e7a1e536505",
   "metadata": {},
   "source": [
    "# Statistics\n",
    "\n",
    "Once we have some random data, we can compute the sample mean and the sample standard deviation as follows."
   ]
  },
  {
   "cell_type": "code",
   "execution_count": null,
   "id": "19326e31-1789-42e8-b4e5-991d94fa58c5",
   "metadata": {
    "tags": []
   },
   "outputs": [],
   "source": []
  },
  {
   "cell_type": "markdown",
   "id": "22a90805-cfc2-410e-83ba-880d010075bc",
   "metadata": {},
   "source": [
    "We can also do a regression."
   ]
  },
  {
   "cell_type": "code",
   "execution_count": null,
   "id": "1ba2cbe4-be64-4c78-bc5d-1a8e04e018e3",
   "metadata": {
    "tags": []
   },
   "outputs": [],
   "source": []
  },
  {
   "cell_type": "markdown",
   "id": "fcbac353-a4d4-485c-acc6-d8ff6256ede6",
   "metadata": {},
   "source": [
    "## Multidimensional Arrays\n",
    "\n",
    "Arrays can have multiple dimensions. A two-dimensional array, for example, is a matrix.\n",
    "We will often work with 2D arrays to save the 3N coordinates and 3N velocities of a system."
   ]
  },
  {
   "cell_type": "code",
   "execution_count": null,
   "id": "2102e8bb-9ab3-42da-a74c-461db4ee42cc",
   "metadata": {
    "tags": []
   },
   "outputs": [],
   "source": []
  },
  {
   "cell_type": "markdown",
   "id": "16469d07-2c2c-4432-b770-bcef5f91fb10",
   "metadata": {},
   "source": [
    "We can use the `size` and `shape` attributes of an array to query information on the number of elements and the shape."
   ]
  },
  {
   "cell_type": "code",
   "execution_count": null,
   "id": "2890b64b-d9ba-4d01-9a2a-068cd9cb7227",
   "metadata": {
    "tags": []
   },
   "outputs": [],
   "source": []
  },
  {
   "cell_type": "markdown",
   "id": "4fb0132f-93b7-40eb-a874-98c5b48e6331",
   "metadata": {},
   "source": [
    "The array creation routines `np.zeros`, `np.ones`, `np.full`, and the corresponding \"`_like`\" functions support multiple dimensions."
   ]
  },
  {
   "cell_type": "code",
   "execution_count": null,
   "id": "2d0c250a-35b4-481e-82ce-ec4407b956ea",
   "metadata": {
    "tags": []
   },
   "outputs": [],
   "source": []
  },
  {
   "cell_type": "markdown",
   "id": "6fe22fff-3ff8-46cd-b933-418b29d89002",
   "metadata": {},
   "source": [
    "The same is true for the random number generators, but here we don't need to provide a tuple."
   ]
  },
  {
   "cell_type": "code",
   "execution_count": null,
   "id": "b26de1e7-79a5-4509-b630-f3c411fca488",
   "metadata": {
    "tags": []
   },
   "outputs": [],
   "source": []
  },
  {
   "cell_type": "markdown",
   "id": "210487ff-b0da-4f73-9070-e45d5b1c7c94",
   "metadata": {},
   "source": [
    "We can also reshape 1D arrays or stack multiple ones."
   ]
  },
  {
   "cell_type": "code",
   "execution_count": null,
   "id": "a18f2a77-7388-4003-ac8b-c8163d5ca727",
   "metadata": {
    "tags": []
   },
   "outputs": [],
   "source": []
  },
  {
   "cell_type": "markdown",
   "id": "0f8d366f-8d85-4c66-88ac-9600bcc66342",
   "metadata": {},
   "source": [
    "Elements of multidimensional arrays can be accessed in various ways."
   ]
  },
  {
   "cell_type": "code",
   "execution_count": null,
   "id": "dbda1a46-c8a7-42c0-aec3-284265ce5e17",
   "metadata": {
    "tags": []
   },
   "outputs": [],
   "source": []
  },
  {
   "cell_type": "markdown",
   "id": "31a4a21b-17a8-426f-b3ba-11ed1a6e2383",
   "metadata": {},
   "source": [
    "## Exercise\n",
    "\n",
    "Create a 2D array called `velocities` with shape `(10000, 3)`. It should correspond to the velocities of 10000 particles in three dimensions.\n",
    "The array should contain normally distributed random numbers with zero mean and a standard deviation of $\\sqrt{kT/m}$.\n",
    "Choose $T=300\\ \\mathsf{K}$ and $m=10\\ \\mathsf{u}$.\n",
    "Make sure that the velocities have units of $\\mathsf{nm/ps}$.\n",
    "Verify that the mean is close to zero and the standard deviation is close to 0.5 using `np.mean` and `np.std`.\n",
    "Plot histograms of the velocities in each dimension"
   ]
  },
  {
   "cell_type": "code",
   "execution_count": null,
   "id": "215e4644-3780-4472-bd8f-0c8e3f7eeda0",
   "metadata": {
    "tags": []
   },
   "outputs": [],
   "source": []
  },
  {
   "cell_type": "markdown",
   "id": "6eef6137-7588-4a10-bf44-c5e76250ab28",
   "metadata": {},
   "source": [
    "## Array Operations\n",
    "\n",
    "Most numpy operations are elementary. They work on each element."
   ]
  },
  {
   "cell_type": "code",
   "execution_count": null,
   "id": "afd894b6-acc6-4100-8b94-254e61a2099a",
   "metadata": {
    "tags": []
   },
   "outputs": [],
   "source": []
  },
  {
   "cell_type": "markdown",
   "id": "ddca5693-22b8-4178-8e49-ecac0baab636",
   "metadata": {},
   "source": [
    "Some operations work on the array as a whole."
   ]
  },
  {
   "cell_type": "code",
   "execution_count": null,
   "id": "150cc34c-b29d-4d33-bbcc-0527d5f2fae1",
   "metadata": {
    "tags": []
   },
   "outputs": [],
   "source": []
  },
  {
   "cell_type": "markdown",
   "id": "97f054ba-1a1e-4bce-a70d-dce99e128d0d",
   "metadata": {},
   "source": [
    "Many of these functions accept a keyword `axis`, to restrict the function evaluation to a particular dimension."
   ]
  },
  {
   "cell_type": "code",
   "execution_count": null,
   "id": "ea7cec6c-8f37-4778-b7eb-5319b246548d",
   "metadata": {
    "tags": []
   },
   "outputs": [],
   "source": []
  },
  {
   "cell_type": "markdown",
   "id": "8d3dbc1c-4b46-43ef-bfd2-8b3c461239cd",
   "metadata": {},
   "source": [
    "## Exercise\n",
    "\n",
    "In this exercise, we will work with our array `velocities` again.\n",
    "It should be shape `(10000, 3)` array.\n",
    "Compute the magnitude of the velocity vector of each particle, that is, reduce velocities to a 1D array with 1000 elements.\n",
    "Call this array `vabs`.\n",
    "Plot a histogram.\n",
    "What is the name of this distribution?\n",
    "Compute the mean absolute velocity."
   ]
  },
  {
   "cell_type": "code",
   "execution_count": null,
   "id": "0920a97e-3758-4b26-a121-e3ebf55d2ddf",
   "metadata": {
    "tags": []
   },
   "outputs": [],
   "source": []
  }
 ],
 "metadata": {
  "kernelspec": {
   "display_name": "Python 3 (ipykernel)",
   "language": "python",
   "name": "python3"
  },
  "language_info": {
   "codemirror_mode": {
    "name": "ipython",
    "version": 3
   },
   "file_extension": ".py",
   "mimetype": "text/x-python",
   "name": "python",
   "nbconvert_exporter": "python",
   "pygments_lexer": "ipython3",
   "version": "3.13.1"
  }
 },
 "nbformat": 4,
 "nbformat_minor": 5
}
