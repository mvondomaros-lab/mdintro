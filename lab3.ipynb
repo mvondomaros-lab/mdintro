{
 "cells": [
  {
   "cell_type": "markdown",
   "id": "3bd6a92f-56db-43e8-976a-ab6c89578fca",
   "metadata": {},
   "source": [
    "# MD of Lennard-Jones Particles\n",
    "\n",
    "In this exercise, we implement an MD code for Lennard-Jones particles.\n",
    "We choose liquid Argon as a test system.\n",
    "We start with $N=n^3$ atoms placed on a cubic lattice and with initial velocities chosen from a random velocity distribution corresponding to an initial temperature of $T=87\\,\\mathsf{K}$.\n",
    "\n",
    "Throughout this exercise you will be asked to fill in blanks in the code."
   ]
  },
  {
   "cell_type": "code",
   "execution_count": null,
   "id": "e9436b1c-80e7-4c4c-85bf-4b9bb0976465",
   "metadata": {},
   "outputs": [],
   "source": [
    "import itertools\n",
    "\n",
    "import matplotlib.pyplot as plt\n",
    "import numba\n",
    "import numpy as np\n",
    "import scipy.constants as const\n",
    "import tqdm\n",
    "\n",
    "plt.style.use(\"ggplot\")"
   ]
  },
  {
   "cell_type": "markdown",
   "id": "2d9952a7-87d5-4000-83ff-43e347262bbe",
   "metadata": {},
   "source": [
    "We start by assigning some constants.\n",
    "`epsilon` and `sigma` are the LJ parameters for Argon, `m` is the mass.\n",
    "We will initialize velocities to a temperature `temp`.\n",
    "`density` contains the liquid phase density of Argon at the specified temperature.\n",
    "\n",
    "Please compute the value of $k_\\mathsf{B}T$ in molecular units."
   ]
  },
  {
   "cell_type": "code",
   "execution_count": null,
   "id": "443d800a-59d8-400f-b4ae-9864565ab91a",
   "metadata": {},
   "outputs": [],
   "source": [
    "epsilon = 0.9977  # kJ/mol\n",
    "sigma = 0.34  # nm\n",
    "m = 39.95  # amu\n",
    "temp = 87.0  # K\n",
    "density = 1.3973  # g/cm^3\n",
    "density *= (const.gram / const.u) * (const.centi / const.nano) ** (-3)  # amu/nm^3\n",
    "\n",
    "kt = ...  # kJ/mol\n",
    "\n",
    "# If you get an `AssertionError`, your result is wrong. Also, please don't copy the result ;)\n",
    "assert np.isclose(kt, 0.7233582477793319)"
   ]
  },
  {
   "cell_type": "markdown",
   "id": "04de9809-2308-4967-8cf8-5fbbb475fc13",
   "metadata": {},
   "source": [
    "As before, we need to be able to compute the potential and the force.\n",
    "Complete the definition of the following function.\n",
    "It should return the value of the LJ-Potential at the specified distance.\n",
    "\n",
    "$$\n",
    "V(r) = 4\\varepsilon\\left[\\left(\\frac{\\sigma}{r}\\right)^{12}-\\left(\\frac{\\sigma}{r}\\right)^{6}\\right]\n",
    "$$"
   ]
  },
  {
   "cell_type": "code",
   "execution_count": null,
   "id": "91b94830-2515-4d48-a915-edd5a8bd3ad5",
   "metadata": {},
   "outputs": [],
   "source": [
    "@numba.njit()\n",
    "def potential(r, epsilon, sigma):\n",
    "    \"\"\"\n",
    "    Computes the value of the LJ potential at r, given the well depth epsilon and\n",
    "    the contact distance sigma.\n",
    "    \"\"\"\n",
    "    ...\n",
    "    return epot"
   ]
  },
  {
   "cell_type": "markdown",
   "id": "3b461471-4c2f-45b3-8755-a363fc58ce02",
   "metadata": {},
   "source": [
    "Verify that your implementation looks reasonable."
   ]
  },
  {
   "cell_type": "code",
   "execution_count": null,
   "id": "c092d145-59a1-4181-aedd-9ac0c29fbcae",
   "metadata": {},
   "outputs": [],
   "source": [
    "r = np.linspace(0.95 * sigma, 3.0 * sigma, 1000)\n",
    "v = potential(r, epsilon=epsilon, sigma=sigma)\n",
    "\n",
    "\n",
    "plt.figure()\n",
    "plt.plot(r, v)\n",
    "plt.show()"
   ]
  },
  {
   "cell_type": "markdown",
   "id": "eed862b6-7f29-45dc-8e5b-4e1726f2dbaf",
   "metadata": {},
   "source": [
    "Next, derive an expression for the force and implement it below."
   ]
  },
  {
   "cell_type": "code",
   "execution_count": null,
   "id": "1584500d-22fb-4e7d-a1d3-cdc447bc832f",
   "metadata": {},
   "outputs": [],
   "source": [
    "@numba.njit()\n",
    "def force(r, epsilon, sigma):\n",
    "    \"\"\"\n",
    "    Computes the magnitude of the LJ force at r, given the well depth epsilon and\n",
    "    the contact distance sigma.\n",
    "    \"\"\"\n",
    "    ...\n",
    "    return f"
   ]
  },
  {
   "cell_type": "markdown",
   "id": "e514daa7-6240-4a32-8770-9a8c8974511f",
   "metadata": {},
   "source": [
    "The following plot should give two (almost) identical force profiles. The second one corresponds to the numerical derivative of your potential energy function. If the two curves match, your implementation is correct."
   ]
  },
  {
   "cell_type": "code",
   "execution_count": null,
   "id": "088d6f37-0213-48b6-8aaa-cd0c8c5c1a55",
   "metadata": {},
   "outputs": [],
   "source": [
    "f = force(r, epsilon=epsilon, sigma=sigma)\n",
    "ftest = -np.gradient(v, r)\n",
    "\n",
    "plt.figure()\n",
    "plt.plot(r, f)\n",
    "plt.plot(r, ftest)\n",
    "plt.show()"
   ]
  },
  {
   "cell_type": "markdown",
   "id": "dd429e3e-2370-4872-a884-5e42164f978b",
   "metadata": {},
   "source": [
    "Initially, we would like to place atoms on a cubic lattice.\n",
    "We will work with $6^3$ atoms.\n",
    "Let's start by computing the volume of a cube containing this many atoms.\n",
    "Next, compute the length of each vertex of the cube."
   ]
  },
  {
   "cell_type": "code",
   "execution_count": null,
   "id": "5b40ed07-4fc9-4a25-9e99-6ed73c350c5b",
   "metadata": {},
   "outputs": [],
   "source": [
    "n = 6\n",
    "natoms = n**3\n",
    "volume = ...  # nm^3\n",
    "box = ...  # nm"
   ]
  },
  {
   "cell_type": "markdown",
   "id": "c168b510-804b-42eb-95da-06ca8f5ba26a",
   "metadata": {},
   "source": [
    "Now that we know the size of our simulation cell, we try to implement the code that puts atoms on a lattice.\n",
    "Fill in the blanks."
   ]
  },
  {
   "cell_type": "code",
   "execution_count": null,
   "id": "ec45a0f3-b6a8-4365-9a2b-bc8d4b3b48de",
   "metadata": {},
   "outputs": [],
   "source": [
    "@numba.njit()\n",
    "def generate_cubic_lattice(n, box):\n",
    "    \"\"\"\n",
    "    Puts n**3 atoms on an n x n x n cubic lattice.\n",
    "    Coordinates are scaled to lie within [0, box).\n",
    "    \"\"\"\n",
    "    natoms = n**3\n",
    "    lattice = np.zeros((natoms, 3))\n",
    "    atom = 0\n",
    "    for i in range(n):\n",
    "        for j in range(n):\n",
    "            for k in range(n):\n",
    "                lattice[atom, 0] = ...\n",
    "                lattice[atom, 1] = ...\n",
    "                lattice[atom, 2] = ...\n",
    "                atom += 1\n",
    "    lattice *= box / n\n",
    "    return lattice"
   ]
  },
  {
   "cell_type": "markdown",
   "id": "4661c01d-4ec1-4e7b-a65a-8d048ec78d5b",
   "metadata": {},
   "source": [
    "Verify that your implementation is correct by executing the following cell.\n",
    "In here, we construct a cubic lattice for $6^3$ atoms in a volume corresponding to the density specified above."
   ]
  },
  {
   "cell_type": "code",
   "execution_count": null,
   "id": "8a8e6ae0-d51a-4859-a71a-4e8e7296c04a",
   "metadata": {},
   "outputs": [],
   "source": [
    "def plot_frame(x, box, v=None):\n",
    "    \"\"\"\n",
    "    Makes a 3D scatter plot of a position array x.\n",
    "    Also plots a cubic wireframe with edge length box.\n",
    "    \"\"\"\n",
    "    fig = plt.figure()\n",
    "    ax = fig.add_subplot(projection=\"3d\")\n",
    "    # Plot the box frame.\n",
    "    r = [0, 1]\n",
    "    for s, e in itertools.combinations(itertools.product(r, r, r), 2):\n",
    "        s = np.array(s)\n",
    "        e = np.array(e)\n",
    "        if np.sum(np.abs(e - s)) == 1:\n",
    "            X, Y, Z = np.vstack([s, e]).T * box\n",
    "            ax.plot3D(X, Y, Z, color=\"black\", alpha=0.5)\n",
    "\n",
    "    X, Y, Z = x.T\n",
    "    ax.scatter3D(X, Y, Z)\n",
    "\n",
    "    if v is not None:\n",
    "        VX, VY, VZ = v.T\n",
    "        ax.quiver(X, Y, Z, VX, VY, VZ)\n",
    "    plt.show()\n",
    "\n",
    "\n",
    "x0 = generate_cubic_lattice(n, box)\n",
    "plot_frame(x0, box)"
   ]
  },
  {
   "cell_type": "markdown",
   "id": "12e422a5-997d-45db-9cd0-e8a7decb21ec",
   "metadata": {},
   "source": [
    "We also need initial velocities.\n",
    "We have done this before.\n",
    "Creat an array `v0` with shape `(natoms, 3)` random values drawn from a normal distribution.\n",
    "Multiply by $\\sqrt{k_\\mathsf{B}T/m}$ to obtain a velocity distribution."
   ]
  },
  {
   "cell_type": "code",
   "execution_count": null,
   "id": "35cf0171-3b37-4f29-ab56-34dc2d4159a0",
   "metadata": {},
   "outputs": [],
   "source": [
    "v0 = ..."
   ]
  },
  {
   "cell_type": "markdown",
   "id": "59cfc0de-1776-4c2f-95a7-35bafcf46137",
   "metadata": {},
   "source": [
    "In the following, we plot the velocities as a vector field. The arrows should be small compared to the box size if you did everything right."
   ]
  },
  {
   "cell_type": "code",
   "execution_count": null,
   "id": "de1c4e60-932a-41d2-aff0-e5e7c8e179ee",
   "metadata": {},
   "outputs": [],
   "source": [
    "plot_frame(x0, box, v=v0)"
   ]
  },
  {
   "cell_type": "markdown",
   "id": "a4b22bbd-682b-4f57-874c-a749fa0c036a",
   "metadata": {},
   "source": [
    "The next part is the trickiest part of the algorithm.\n",
    "We need to evaluate the forces acting between each pair of atoms.\n",
    "These forces need to be summed up for each atom in the system.\n",
    "We make use of Newton's third law in this code.\n",
    "We also consider the minimum image convention.\n",
    "Fill in the blanks."
   ]
  },
  {
   "cell_type": "code",
   "execution_count": null,
   "id": "b0bf592e-507e-4988-b4d6-78bafcc245bd",
   "metadata": {},
   "outputs": [],
   "source": [
    "@numba.njit()\n",
    "def forces_and_potential(x, epsilon, sigma):\n",
    "    \"\"\"\n",
    "    Computes the total potential energy and the forces over all pairs of atoms.\n",
    "    \"\"\"\n",
    "    natoms = x.shape[0]\n",
    "    epot = 0.0\n",
    "    f = np.zeros_like(x)\n",
    "\n",
    "    for i in range(natoms - 1):\n",
    "        for j in range(i + 1, natoms):\n",
    "            dx = ...  # Compute the distance vector.\n",
    "            dx -= np.round(dx / box) * box  # This is the minimum image convention in a concise form.\n",
    "            r = ... # Compute the norm of the distance vector.\n",
    "\n",
    "            fij = ...  # Compute the magnitude of the force between the atoms i and j.\n",
    "            u = dx / r\n",
    "            f[i] ?= fij * u  # Replace ? with either + or -. Determine the sign by considering Newton's third law.\n",
    "            f[j] ?= fij * u  # Same here.\n",
    "\n",
    "            epot += ...  # Compute the potential.\n",
    "\n",
    "    return f, epot"
   ]
  },
  {
   "cell_type": "markdown",
   "id": "6ad146f9-a556-4026-9e4c-25448d90f597",
   "metadata": {},
   "source": [
    "Now, complete the definition of the following function for the computation of the kinetic energy."
   ]
  },
  {
   "cell_type": "code",
   "execution_count": null,
   "id": "48b99178-42c5-4d9b-8640-a01f72293990",
   "metadata": {},
   "outputs": [],
   "source": [
    "def kinetic(v, m):\n",
    "    \"\"\"\n",
    "    Computes the kinetic energy.\n",
    "    \"\"\"\n",
    "    ...\n",
    "    return ekin"
   ]
  },
  {
   "cell_type": "markdown",
   "id": "1b13cf0d-ddee-4fee-92ef-976d238e0770",
   "metadata": {},
   "source": [
    "That's it, now we can write our MD code. Fill in the blanks."
   ]
  },
  {
   "cell_type": "code",
   "execution_count": null,
   "id": "4c9e0c46-e502-4dd7-a741-5554e729fff9",
   "metadata": {
    "tags": []
   },
   "outputs": [],
   "source": [
    "def md(nsteps, dt, x0, v0, m, box, epsilon, sigma):\n",
    "    \"\"\"\n",
    "    Performs VV-MD for a LJ system.\n",
    "    \"\"\"\n",
    "    x = np.copy(x0)\n",
    "    v = np.copy(v0)\n",
    "    f, epot = forces_and_potential(x, epsilon, sigma)\n",
    "    ekin = kinetic(v, m)\n",
    "\n",
    "    trj_x = [np.copy(x)]\n",
    "    trj_epot = [epot]\n",
    "    trj_ekin = [ekin]\n",
    "\n",
    "    for i in tqdm.trange(nsteps):\n",
    "        x += ...\n",
    "        v += ...\n",
    "        f, epot = ...\n",
    "        v += ...\n",
    "        ekin = ...\n",
    "\n",
    "        trj_x.append(np.copy(x))\n",
    "        trj_epot.append(epot)\n",
    "        trj_ekin.append(ekin)\n",
    "\n",
    "    t = np.arange(0, nsteps + 1) * dt\n",
    "    trj_x = np.array(trj_x)\n",
    "    trj_epot = np.array(trj_epot)\n",
    "    trj_ekin = np.array(trj_ekin)\n",
    "\n",
    "    return t, trj_x, trj_epot, trj_ekin"
   ]
  },
  {
   "cell_type": "markdown",
   "id": "803a0abc-f6db-4d2f-8eed-e1bd98f4986e",
   "metadata": {},
   "source": [
    "Here, we run a short MD."
   ]
  },
  {
   "cell_type": "code",
   "execution_count": null,
   "id": "208be197-35e0-4606-a2ab-298d6133cf35",
   "metadata": {
    "tags": []
   },
   "outputs": [],
   "source": [
    "nsteps = 5000\n",
    "dt = 0.001\n",
    "t, x, epot, ekin = md(\n",
    "    nsteps=nsteps,\n",
    "    dt=dt,\n",
    "    x0=x0,\n",
    "    v0=v0,\n",
    "    m=m,\n",
    "    box=box,\n",
    "    epsilon=epsilon,\n",
    "    sigma=sigma,\n",
    ")"
   ]
  },
  {
   "cell_type": "markdown",
   "id": "5bef09d4-e5cc-4725-a535-57e9e637f671",
   "metadata": {},
   "source": [
    "Verify energy conservation."
   ]
  },
  {
   "cell_type": "code",
   "execution_count": null,
   "id": "fa67dbc6-56bb-4c16-ae6c-951c04cd7afe",
   "metadata": {},
   "outputs": [],
   "source": [
    "etot = epot + ekin\n",
    "epot -= np.mean(epot)\n",
    "ekin -= np.mean(ekin)\n",
    "etot -= np.mean(etot)\n",
    "plt.plot(t, epot)\n",
    "plt.plot(t, ekin)\n",
    "plt.plot(t, etot)"
   ]
  },
  {
   "cell_type": "markdown",
   "id": "4ef10856-0663-41c1-b328-0e39689675e5",
   "metadata": {},
   "source": [
    "Visualize selected snapshots."
   ]
  },
  {
   "cell_type": "code",
   "execution_count": null,
   "id": "e555d461-3995-4ee2-8644-6e5a6a261329",
   "metadata": {
    "tags": []
   },
   "outputs": [],
   "source": [
    "plot_frame(x[10], box=box)"
   ]
  }
 ],
 "metadata": {
  "kernelspec": {
   "display_name": "Python 3 (ipykernel)",
   "language": "python",
   "name": "python3"
  },
  "language_info": {
   "codemirror_mode": {
    "name": "ipython",
    "version": 3
   },
   "file_extension": ".py",
   "mimetype": "text/x-python",
   "name": "python",
   "nbconvert_exporter": "python",
   "pygments_lexer": "ipython3",
   "version": "3.13.1"
  }
 },
 "nbformat": 4,
 "nbformat_minor": 5
}
