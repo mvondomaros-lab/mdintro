{
 "cells": [
  {
   "cell_type": "markdown",
   "id": "d153041e-a713-4517-92f3-124950d0e318",
   "metadata": {},
   "source": [
    "# MD of Diatomic Molecules in One Dimension"
   ]
  },
  {
   "cell_type": "markdown",
   "id": "abddf4ba-1f1e-458d-8d8a-9cdb0582a543",
   "metadata": {
    "tags": []
   },
   "source": [
    "One of the easiest system that one can simulate is a single diatomic molecule, such as CO.\n",
    "\n",
    "The true potential that describes bond stretching, $V(r)$, can be expanded as a Taylor series around some point $r_e$:\n",
    "\n",
    "$$V(r) = V_0 + V^\\prime(r_0)(r-r_e) + \\frac{1}{2}V^{\\prime\\prime}(r_0)(r-r_e)^2 + \\dots$$\n",
    "\n",
    "If we choose $r_0$ to be the equilibrium bond length, the first derivative $V^\\prime$ vanishes by definition. We may also choose $V_0$ to be 0, without loss of generality. Thus, the potential energy function\n",
    "\n",
    "$$V_\\mathsf{harmonic}(r) = \\frac{1}{2}V^{\\prime\\prime}(r_0)(r-r_e)^2 = \\frac{1}{2}k(r-r_e)^2$$\n",
    "\n",
    "is a good approximation of the true potential for small displacements around the equilibrium bond length. It's called a **harmonic potential** with **force constant** $k$.\n",
    "\n",
    "The force constant $k$, reduced mass $\\mu$ of the molecule and the fundamental frequency of the vibration $\\omega$ are related as follows.\n",
    "\n",
    "$$\n",
    "\\omega = 2\\pi{}\\nu = \\sqrt{\\frac{k}{\\mu}}\n",
    "$$"
   ]
  },
  {
   "cell_type": "markdown",
   "id": "562d490d-0c7f-4808-96ee-d480ac175ee5",
   "metadata": {},
   "source": [
    "## Exercise 1: Obtaining Potential Parameters\n",
    "\n",
    "1. Compute the reduced mass of CO and save it to a variable called `mu_co`. Use atomic mass units!\n",
    "2. The fundamental frequency of the CO stretch vibration is $2143\\ \\mathsf{cm^{-1}}$. Convert this to a frequency with units of $\\mathsf{ps^{-1}}$ and save the result to a variable called `nu_cu`.\n",
    "3. Compute the force constant `k_co` for a CO molecule in $\\mathsf{kJ\\ mol^{-1}\\ nm^{-2}}$, using the fact that $1\\ \\mathsf{kJ\\ mol^{-1}} = 1\\ \\mathsf{u\\ nm^2 ps^{-2}}$. Your result should be in the order of $10^6\\ \\mathsf{kJ\\ mol^{-1}\\ nm^{-2}}$ "
   ]
  },
  {
   "cell_type": "code",
   "execution_count": null,
   "id": "c1dd0c41-7521-4741-b3cf-f34f6c1956b7",
   "metadata": {
    "tags": []
   },
   "outputs": [],
   "source": [
    "import matplotlib.pyplot as plt\n",
    "import numpy as np\n",
    "import scipy.constants as const\n",
    "\n",
    "plt.style.use(\"ggplot\")"
   ]
  },
  {
   "cell_type": "code",
   "execution_count": null,
   "id": "a963d375-f107-4026-af04-b2b3278af730",
   "metadata": {
    "tags": []
   },
   "outputs": [],
   "source": [
    "mu_co = ...  # amu\n",
    "nu_co = ...  # 1 / ps\n",
    "k_co = ...  # kJ / (mol * nm^2)"
   ]
  },
  {
   "cell_type": "markdown",
   "id": "9aca2b63-723e-4788-8ddd-06b8264aa4f3",
   "metadata": {},
   "source": [
    "## Exercise 2: Computing the Potential and the Force\n",
    "\n",
    "Unlike in an actual MD, we will work with internal units.\n",
    "\n",
    "The variable\n",
    "\n",
    "$$\n",
    "x = r - r_e\n",
    "$$\n",
    "\n",
    "shall describe the displacement of the CO bond around its equilibrium value. The problem is now one dimensional. It is the same as describing a 1D harmonic oscillator with mass $m=\\mu$, oscillating around $x=0$.\n",
    "\n",
    "1. Write a function called `epot_ho`, which accepts two arguments: a position `x` and a force constant `k`. The function should compute the harmonic potential.\n",
    "2. Plot the harmonic potential for the CO molecule for displacements of $\\pm 0.01\\,\\mathsf{nm}%$. \n",
    "3. Write a function called `f_ho`, which accepts the same two arguments. This function should compute the force originiting from the harmonic potential.\n",
    "4. Plot the force acting on the atoms of a CO molecule for displacements of $\\pm 0.01\\,\\mathsf{nm}%$."
   ]
  },
  {
   "cell_type": "code",
   "execution_count": null,
   "id": "54dfd127-3b31-4514-88be-a5ed4444605a",
   "metadata": {
    "tags": []
   },
   "outputs": [],
   "source": [
    "def epot_ho(x, k): ..."
   ]
  },
  {
   "cell_type": "code",
   "execution_count": null,
   "id": "20458792-b73f-4ee7-8ace-7e2c1430c922",
   "metadata": {
    "tags": []
   },
   "outputs": [],
   "source": [
    "...\n",
    "plt.plot(...)"
   ]
  },
  {
   "cell_type": "code",
   "execution_count": null,
   "id": "0032110d-9788-4c1c-b4ff-5548e4e1efb7",
   "metadata": {
    "tags": []
   },
   "outputs": [],
   "source": [
    "def f_ho(x, k): ..."
   ]
  },
  {
   "cell_type": "code",
   "execution_count": null,
   "id": "d697d9bb-c76f-4181-b8a2-bd3158247980",
   "metadata": {
    "tags": []
   },
   "outputs": [],
   "source": [
    "...\n",
    "plt.plot(...)"
   ]
  },
  {
   "cell_type": "markdown",
   "id": "5ca3d17d-8e55-4eea-9be9-ef4077f91d8f",
   "metadata": {},
   "source": [
    "## Exercise 3: Analytical Solution"
   ]
  },
  {
   "cell_type": "markdown",
   "id": "0a7a2f0b-301a-433d-98d8-b5ce851f12b3",
   "metadata": {
    "tags": []
   },
   "source": [
    "The nice thing about a harmonic oscillator is that we know the **analytical solution**, so we can **compare** it to our simulation.\n",
    "\n",
    "Given the initial displacement $x_0$ and an initial velocity $v_0$, displacements will evolve according to\n",
    "\n",
    "$$\n",
    "x(t) = x_0\\cos(\\omega{}t) + \\frac{v_0}{\\omega}\\sin(\\omega{}t)\n",
    "$$\n",
    "\n",
    "1. Write a function `x_ho`, which accepts six arguments: a time `t`, an initial displacement `x0`, an initial velocity `v0`, a force constant `k`, and a mass `m`. The function should compute the bond length displacement of the diatomic molecule after some time $t$.\n",
    "2. Plot the analytical solution for `x0 = 0.01` and `v0 = 0.0` over $0.1\\ \\mathsf{ps}$. Play around a little with different initial values and times."
   ]
  },
  {
   "cell_type": "code",
   "execution_count": null,
   "id": "9708fcbd-422b-45e4-995d-47ec9e8a7f18",
   "metadata": {
    "tags": []
   },
   "outputs": [],
   "source": [
    "..."
   ]
  },
  {
   "cell_type": "markdown",
   "id": "b2feb87d-601e-4b23-a5f3-807cd92c5b52",
   "metadata": {},
   "source": [
    "# Exercise 4: Euler's Method\n",
    "\n",
    "Euler's method is the simplest finite-difference method, but no use in MD. Let's see why, by implementing it.\n",
    "\n",
    "In Euler's method, positions and velocities are propagated as follows.\n",
    "\n",
    "$$\n",
    "x(t + \\delta{}t) = x(t) + v(t) \\delta{}t + \\frac{1}{2}a(t)\\delta{}t^2\n",
    "$$\n",
    "\n",
    "$$\n",
    "v(t + \\delta{}t) = v(t) + a(t) \\delta{}t\n",
    "$$\n",
    "\n",
    "We will work through this exercise together."
   ]
  },
  {
   "cell_type": "code",
   "execution_count": null,
   "id": "8dbd414d-192a-4e5a-8851-7cf6fdf22406",
   "metadata": {
    "tags": []
   },
   "outputs": [],
   "source": [
    "..."
   ]
  },
  {
   "cell_type": "markdown",
   "id": "7d553b61-5e13-48d5-869e-f5d57580a045",
   "metadata": {},
   "source": [
    "## Exercise 4: Velocity Verlet Integration\n",
    "\n",
    "Velocity Verlet integration works as follows.\n",
    "\n",
    "$$\n",
    "x(t + \\delta{}t) = x(t) + v(t) \\delta{}t + \\frac{1}{2}a(t)\\delta{}t^2\n",
    "$$\n",
    "\n",
    "$$\n",
    "v(t + \\delta{}t) = v(t) + \\frac{1}{2}\\left[a(t) + a(t+\\delta{}t)\\right] \\delta{}t\n",
    "$$\n",
    "\n",
    "1. Implement a function `md_vv_ho()` with the same arguments and return values as `md_euler_ho`, performing Velocity Verlet Integration\n",
    "2. Compare the simulated and the analytical trajectory by plotting together.\n",
    "3. Experiment with the limits of the algorithm, that is, play around with the number of steps and the timestep, as well as with initial velocities."
   ]
  },
  {
   "cell_type": "code",
   "execution_count": null,
   "id": "6b015225-5f45-4ddd-992f-508ab12d8084",
   "metadata": {
    "tags": []
   },
   "outputs": [],
   "source": [
    "..."
   ]
  },
  {
   "cell_type": "markdown",
   "id": "c6e191cf-beb7-4b73-a79a-4559066ba7cd",
   "metadata": {},
   "source": [
    "## Exercise 5: Monitoring Energy Conservation\n",
    "\n",
    "In this exercise, we rewrite `md_vv_ho` to output energies, as well.\n",
    "\n",
    "1. Copy your code for `md_vv_ho` to a new function with the same arguments called `md_vv_ho_e`.\n",
    "2. In each MD step, compute the kinetic, the potential, and the total energy.\n",
    "3. Output those energies along with the trajectory.\n",
    "4. Plot all energies over time. Play around with the timestep and the number of steps.\n",
    "5. Run your simulation with a range of time steps and plot the variance of all three forms of energy over the time step."
   ]
  },
  {
   "cell_type": "code",
   "execution_count": null,
   "id": "69c0b515-ee00-4e84-9d13-2aa1c8d61e12",
   "metadata": {
    "tags": []
   },
   "outputs": [],
   "source": [
    "def md_vv_ho_e(nsteps, dt, x0, v0, k, m):\n",
    "    ...\n",
    "\n",
    "    epot = ...\n",
    "    ekin = ...\n",
    "    etot = ...\n",
    "\n",
    "    epot_list = [epot]\n",
    "    ekin_list = [ekin]\n",
    "    etot_list = [etot]\n",
    "    trj = [x]\n",
    "\n",
    "    for i in range(nsteps):\n",
    "        ...\n",
    "\n",
    "        epot_list.append(epot)\n",
    "        ekin_list.append(ekin)\n",
    "        etot_list.append(etot)\n",
    "        trj.append(x)\n",
    "\n",
    "    epot = np.array(epot_list)\n",
    "    ekin = np.array(ekin_list)\n",
    "    etot = np.array(etot_list)\n",
    "    trj = np.array(trj)\n",
    "    t = np.arange(trj.size) * dt\n",
    "    return t, trj, epot, ekin, etot"
   ]
  },
  {
   "cell_type": "code",
   "execution_count": null,
   "id": "eeb7e518-e2c8-49a6-9939-53967cdc3f4d",
   "metadata": {
    "tags": []
   },
   "outputs": [],
   "source": [
    "v_epot = []\n",
    "v_ekin = []\n",
    "v_etot = []\n",
    "\n",
    "for dt in ...:\n",
    "    ...\n",
    "    v_epot.append(...)\n",
    "    v_ekin.append(...)\n",
    "    v_etot.append(...)\n",
    "\n",
    "..."
   ]
  },
  {
   "cell_type": "markdown",
   "id": "4fb087ae-240d-4b8d-bdc6-593e1d28b5eb",
   "metadata": {},
   "source": [
    "## Bonus Exercises\n",
    "\n",
    "1. Implement the Leap Frog Algorithm and compare the results.\n",
    "2. Generate a uniform distribution of points in a sphere and make a histogram of distances. Normalize to unit area, both with and without the radial volume correction. Tip: Generate points in a cube and discard all points which are not in a sphere.\n",
    "3. Generate a uniform distribution of points on the surface of a sphere and make a histogram of angles. Normalize to unit area, both with and without the cone correction. Tip: Generate 3-vectors with components that are sampled from a standard normal distribution. Normalize these vectors to unit length."
   ]
  },
  {
   "cell_type": "code",
   "execution_count": null,
   "id": "4469fac5-271f-4180-a097-603a989f59ec",
   "metadata": {},
   "outputs": [],
   "source": []
  }
 ],
 "metadata": {
  "kernelspec": {
   "display_name": "Python 3 (ipykernel)",
   "language": "python",
   "name": "python3"
  },
  "language_info": {
   "codemirror_mode": {
    "name": "ipython",
    "version": 3
   },
   "file_extension": ".py",
   "mimetype": "text/x-python",
   "name": "python",
   "nbconvert_exporter": "python",
   "pygments_lexer": "ipython3",
   "version": "3.13.1"
  }
 },
 "nbformat": 4,
 "nbformat_minor": 5
}
